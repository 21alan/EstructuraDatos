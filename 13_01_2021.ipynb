{
  "nbformat": 4,
  "nbformat_minor": 0,
  "metadata": {
    "colab": {
      "name": "13/01/2021.ipynb",
      "provenance": [],
      "authorship_tag": "ABX9TyPa0EQ3ezKBJzt1yd2dmlNR",
      "include_colab_link": true
    },
    "kernelspec": {
      "name": "python3",
      "display_name": "Python 3"
    }
  },
  "cells": [
    {
      "cell_type": "markdown",
      "metadata": {
        "id": "view-in-github",
        "colab_type": "text"
      },
      "source": [
        "<a href=\"https://colab.research.google.com/github/21alan/EstructuraDatos/blob/master/13_01_2021.ipynb\" target=\"_parent\"><img src=\"https://colab.research.google.com/assets/colab-badge.svg\" alt=\"Open In Colab\"/></a>"
      ]
    },
    {
      "cell_type": "code",
      "metadata": {
        "id": "9uX9EUsOMKvO"
      },
      "source": [
        "class NodoArbol:\r\n",
        "  def __init__(self,value,left=None,rigth=None):\r\n",
        "    self.data=value\r\n",
        "    self.left=left\r\n",
        "    self.rigth=rigth"
      ],
      "execution_count": null,
      "outputs": []
    },
    {
      "cell_type": "markdown",
      "metadata": {
        "id": "JaSCRRJdMg9M"
      },
      "source": [
        "#Arbol Binario de Busqueda\r\n",
        "Los nodos a la izq de la raiz son menores a la raiz y los nodos a la derecha son mayores que la raiz.\r\n",
        "Pueden ser recorridos en: pre-orden, in-orden y post-orden"
      ]
    },
    {
      "cell_type": "code",
      "metadata": {
        "id": "FXALGakMTKXa"
      },
      "source": [
        "class BinarySearchTree:\r\n",
        "  def __init__(self):\r\n",
        "    self.__root=None\r\n",
        "  def insert(self,value):\r\n",
        "    if self.__root==None:\r\n",
        "      self.__root=NodoArbol(value,None,None)\r\n",
        "    else:\r\n",
        "      self.__insert_nodo__(self.__root,value)\r\n",
        "  \r\n",
        "  def __insert_nodo__(self,nodo,value):\r\n",
        "    if nodo.data==value:\r\n",
        "      pass\r\n",
        "    if value<nodo.data:#si es verdadero va a la IZQ\r\n",
        "      if nodo.left==None:#si hay espacio en la izq, ahi va\r\n",
        "        nodo.left=NodoArbol(value,None,None)#insertamos el nodo\r\n",
        "      else:\r\n",
        "        self.__insert_nodo__(nodo.left,value) #buscar el sub arbol izq\r\n",
        "    elif value>nodo.data:\r\n",
        "      if nodo.rigth==None:\r\n",
        "        nodo.rigth=NodoArbol(value,None,None)\r\n",
        "      else:\r\n",
        "        self.__insert_nodo__(nodo.rigth,value)\r\n",
        "\r\n",
        "\r\n",
        "\r\n",
        "\r\n"
      ],
      "execution_count": null,
      "outputs": []
    },
    {
      "cell_type": "code",
      "metadata": {
        "id": "DwZIfpxYbt8s"
      },
      "source": [
        "bst=BinarySearchTree()\r\n",
        "bst.insert(50)\r\n",
        "bst.insert(30)\r\n",
        "bst.insert(20)\r\n",
        "bst.insert(20)"
      ],
      "execution_count": null,
      "outputs": []
    }
  ]
}