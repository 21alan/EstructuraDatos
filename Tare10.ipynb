{
  "nbformat": 4,
  "nbformat_minor": 0,
  "metadata": {
    "colab": {
      "name": "Tare10.ipynb",
      "provenance": [],
      "authorship_tag": "ABX9TyMm0slvH/NnsVUc9kqU0Xqj",
      "include_colab_link": true
    },
    "kernelspec": {
      "name": "python3",
      "display_name": "Python 3"
    }
  },
  "cells": [
    {
      "cell_type": "markdown",
      "metadata": {
        "id": "view-in-github",
        "colab_type": "text"
      },
      "source": [
        "<a href=\"https://colab.research.google.com/github/21alan/EstructuraDatos/blob/master/Tare10.ipynb\" target=\"_parent\"><img src=\"https://colab.research.google.com/assets/colab-badge.svg\" alt=\"Open In Colab\"/></a>"
      ]
    },
    {
      "cell_type": "code",
      "metadata": {
        "colab": {
          "base_uri": "https://localhost:8080/"
        },
        "id": "CGWRHfRtiJTg",
        "outputId": "41e62d7f-524f-47d5-884b-b7539f4183f3"
      },
      "source": [
        "class NodoArbol:\r\n",
        "  def __init__(self,value,left=None,rigth=None):\r\n",
        "    self.data=value\r\n",
        "    self.left=left\r\n",
        "    self.rigth=rigth\r\n",
        "    self.ban=0\r\n",
        "\r\n",
        "def hojas(arb):\r\n",
        "    mov=[]\r\n",
        "    bandera=0\r\n",
        "    lis1=[]#Nodos hoja\r\n",
        "    lis2=[]#niveles\r\n",
        "    \r\n",
        "    while bandera==0:\r\n",
        "        bandera2=0\r\n",
        "        aux=arb\r\n",
        "        for i in mov:\r\n",
        "            if i==\"L\":\r\n",
        "                aux=aux.left\r\n",
        "            if i==\"R\":\r\n",
        "                aux=aux.rigth\r\n",
        "        if len(mov)==0 and arb.left.ban==1 and arb.rigth.ban==1:\r\n",
        "            bandera=1\r\n",
        "        if len(mov)==0 and arb.left==None and arb.rigth==None:\r\n",
        "            bandera=1\r\n",
        "        if aux.left!= None and aux.left.ban==0 and bandera2==0:\r\n",
        "            aux=aux.left\r\n",
        "            aux.ban=1\r\n",
        "            mov.append(\"L\")\r\n",
        "            bandera2=1\r\n",
        "        if aux.rigth!=None and aux.rigth.ban==0 and bandera2==0:\r\n",
        "            aux=aux.rigth\r\n",
        "            aux.ban=1\r\n",
        "            mov.append(\"R\")\r\n",
        "            bandera2=1\r\n",
        "        if aux.rigth==None and aux.left==None:\r\n",
        "            lis1.append(aux.data)\r\n",
        "            lis2.append(len(mov))\r\n",
        "            mov.pop()\r\n",
        "        if aux.left!=None and aux.rigth!=None and aux!=arb:\r\n",
        "            if aux.left.ban==1 and aux.rigth.ban==1:\r\n",
        "                mov.pop()\r\n",
        "        if aux.rigth!=None:        \r\n",
        "            if aux.left==None and aux.rigth.ban==1:\r\n",
        "                mov.pop()\r\n",
        "        if aux.left!=None:\r\n",
        "            if aux.left.ban==1 and aux.rigth==None:\r\n",
        "                mov.pop()\r\n",
        "    for i in range(len(lis2)-1):\r\n",
        "      for j in range(i):\r\n",
        "        if lis2[j]>lis2[j+1]:\r\n",
        "          aux=lis1[j]\r\n",
        "          lis1[j]=lis1[j+1]\r\n",
        "          lis1[j+1]=aux\r\n",
        "          aux2=lis2[j]\r\n",
        "          lis2[j]=lis2[j+1]\r\n",
        "          lis2[j+1]=aux2\r\n",
        "    print(\"----------------------------------------------------------------\")\r\n",
        "    for i in range(len(lis2)):\r\n",
        "      if lis2[i]==lis2[len(lis2)-1]:\r\n",
        "        print(\"Nodo\",lis1[i],\"en el nivel\",lis2[i])\r\n",
        "    print(\"----------------------------------------------------------------\")  \r\n",
        "print(\"primer arbol\") \r\n",
        "arbol=NodoArbol(\"D\",NodoArbol(\"R\",NodoArbol(\"C\"),NodoArbol(\"H\")),NodoArbol(\"M\",NodoArbol(\"S\",NodoArbol(\"B\")),NodoArbol(\"A\",NodoArbol(\"J\"))))\r\n",
        "hojas(arbol)\r\n",
        "print(\"Segundo arbol\")\r\n",
        "arbol2=NodoArbol(2,NodoArbol(7,NodoArbol(2),NodoArbol(6,NodoArbol(5),NodoArbol(11))),NodoArbol(5,None,NodoArbol(9,NodoArbol(4))))\r\n",
        "hojas(arbol2)\r\n",
        "print(\"tercer arbol\")\r\n",
        "arbol3=NodoArbol(\"A\",NodoArbol(\"B\",NodoArbol(\"D\",NodoArbol(\"G\")),NodoArbol(\"E\",NodoArbol(\"H\"),NodoArbol(\"I\"))),NodoArbol(\"C\",None,NodoArbol(\"F\",NodoArbol(\"j\",None,NodoArbol(\"K\")))))\r\n",
        "hojas(arbol3)            \r\n",
        "            \r\n",
        "        "
      ],
      "execution_count": 1,
      "outputs": [
        {
          "output_type": "stream",
          "text": [
            "primer arbol\n",
            "----------------------------------------------------------------\n",
            "Nodo B en el nivel 3\n",
            "Nodo J en el nivel 3\n",
            "----------------------------------------------------------------\n",
            "Segundo arbol\n",
            "----------------------------------------------------------------\n",
            "Nodo 5 en el nivel 3\n",
            "Nodo 11 en el nivel 3\n",
            "Nodo 4 en el nivel 3\n",
            "----------------------------------------------------------------\n",
            "tercer arbol\n",
            "----------------------------------------------------------------\n",
            "Nodo K en el nivel 4\n",
            "----------------------------------------------------------------\n"
          ],
          "name": "stdout"
        }
      ]
    }
  ]
}