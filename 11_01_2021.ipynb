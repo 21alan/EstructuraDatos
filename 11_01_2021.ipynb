{
  "nbformat": 4,
  "nbformat_minor": 0,
  "metadata": {
    "colab": {
      "name": "11/01/2021.ipynb",
      "provenance": [],
      "authorship_tag": "ABX9TyPTMp+e4StByLtkDhRWzu86",
      "include_colab_link": true
    },
    "kernelspec": {
      "name": "python3",
      "display_name": "Python 3"
    }
  },
  "cells": [
    {
      "cell_type": "markdown",
      "metadata": {
        "id": "view-in-github",
        "colab_type": "text"
      },
      "source": [
        "<a href=\"https://colab.research.google.com/github/21alan/EstructuraDatos/blob/master/11_01_2021.ipynb\" target=\"_parent\"><img src=\"https://colab.research.google.com/assets/colab-badge.svg\" alt=\"Open In Colab\"/></a>"
      ]
    },
    {
      "cell_type": "code",
      "metadata": {
        "colab": {
          "base_uri": "https://localhost:8080/"
        },
        "id": "-entgLQx5P7w",
        "outputId": "ecc3f64e-9ffa-4e73-f5aa-151cd81232f5"
      },
      "source": [
        "class NodoArbol:\r\n",
        "  def __init__(self,value,left=None,rigth=None):\r\n",
        "    self.data=value\r\n",
        "    self.left=left\r\n",
        "    self.rigth=rigth\r\n",
        "def main():\r\n",
        "  arbol=NodoArbol(4,NodoArbol(3,NodoArbol(2,NodoArbol(2))),NodoArbol(5))\r\n",
        "  aux=arbol\r\n",
        "  while aux.left!=None:\r\n",
        "    aux=aux.left\r\n",
        "  print(aux.data)\r\n",
        "  arbol2=NodoArbol(\"Santi\",None,NodoArbol(\"Jesus\",NodoArbol(\"Pedro\",None,NodoArbol(\"Diana\"))))\r\n",
        "  print(arbol2.rigth.left.rigth.data)\r\n",
        "main()"
      ],
      "execution_count": 41,
      "outputs": [
        {
          "output_type": "stream",
          "text": [
            "2\n",
            "Diana\n"
          ],
          "name": "stdout"
        }
      ]
    }
  ]
}